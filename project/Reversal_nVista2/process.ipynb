{
 "cells": [
  {
   "cell_type": "code",
   "execution_count": null,
   "id": "fe621319-9794-4f06-b5c3-320a1e1f8d28",
   "metadata": {},
   "outputs": [],
   "source": [
    "from utils import *"
   ]
  },
  {
   "cell_type": "code",
   "execution_count": null,
   "id": "97b4066f-c8da-44e0-8695-9a837dab3680",
   "metadata": {},
   "outputs": [],
   "source": [
    "lis = [['Tmaze', 'd01'], ['Tmaze', 'd02'], ['Tmaze', 'd03'], ['Tmaze', 'd04'], ['Tmaze', 'd05'], ['Tmaze', 'd06'], ['Tmaze_reversal', 'd01']]"
   ]
  },
  {
   "cell_type": "code",
   "execution_count": 4,
   "id": "a334c588-7a91-46e8-8558-f4a5161004d3",
   "metadata": {},
   "outputs": [],
   "source": [
    "name = '1'"
   ]
  },
  {
   "cell_type": "code",
   "execution_count": 5,
   "id": "c5c75543-f69a-4277-8fa5-b780c4da6244",
   "metadata": {
    "collapsed": true,
    "jupyter": {
     "outputs_hidden": true
    },
    "tags": []
   },
   "outputs": [
    {
     "name": "stderr",
     "output_type": "stream",
     "text": [
      "C:\\Users\\bdr\\anaconda3\\envs\\caienv\\lib\\site-packages\\caiman\\base\\movies.py:312: DeprecationWarning: `np.int` is a deprecated alias for the builtin `int`. To silence this warning, use `int` by itself. Doing this will not modify any behavior and is safe. When replacing `np.int`, you may wish to use e.g. `np.int64` or `np.int32` to specify the precision. If you wish to review your current use, check the release note link for additional information.\n",
      "Deprecated in NumPy 1.20; for more details and guidance: https://numpy.org/devdocs/release/1.20.0-notes.html#deprecations\n",
      "  num_windows = np.int(old_div(T, window))\n",
      "WARNING:root:Movie average is negative. Removing 1st percentile.\n",
      "WARNING:root:Movie average is negative. Removing 1st percentile.\n",
      "WARNING:root:Movie average is negative. Removing 1st percentile.\n",
      "WARNING:root:Movie average is negative. Removing 1st percentile.\n",
      "WARNING:root:Movie average is negative. Removing 1st percentile.\n",
      "WARNING:root:Movie average is negative. Removing 1st percentile.\n",
      "C:\\Users\\bdr\\anaconda3\\envs\\caienv\\lib\\site-packages\\caiman\\motion_correction.py:1031: DeprecationWarning: `np.int` is a deprecated alias for the builtin `int`. To silence this warning, use `int` by itself. Doing this will not modify any behavior and is safe. When replacing `np.int`, you may wish to use e.g. `np.int64` or `np.int32` to specify the precision. If you wish to review your current use, check the release note link for additional information.\n",
      "Deprecated in NumPy 1.20; for more details and guidance: https://numpy.org/devdocs/release/1.20.0-notes.html#deprecations\n",
      "  num_windows = np.int(old_div(T, window))\n",
      "C:\\Users\\bdr\\anaconda3\\envs\\caienv\\lib\\enum.py:315: ResourceWarning: unclosed file <_io.FileIO name='C:\\\\Users\\\\bdr\\\\Tmaze\\\\project\\\\Reversal_nVista2\\\\data\\\\processed_data\\\\1\\\\Tmaze\\\\d06\\\\mv.tif' mode='rb' closefd=True>\n",
      "  return cls.__new__(cls, value)\n",
      "C:\\Users\\bdr\\anaconda3\\envs\\caienv\\lib\\site-packages\\caiman\\motion_correction.py:518: DeprecationWarning: `np.int` is a deprecated alias for the builtin `int`. To silence this warning, use `int` by itself. Doing this will not modify any behavior and is safe. When replacing `np.int`, you may wish to use e.g. `np.int64` or `np.int32` to specify the precision. If you wish to review your current use, check the release note link for additional information.\n",
      "Deprecated in NumPy 1.20; for more details and guidance: https://numpy.org/devdocs/release/1.20.0-notes.html#deprecations\n",
      "  (max_h, max_w), shift)).astype(np.int)\n",
      "C:\\Users\\bdr\\anaconda3\\envs\\caienv\\lib\\site-packages\\caiman\\motion_correction.py:520: DeprecationWarning: `np.int` is a deprecated alias for the builtin `int`. To silence this warning, use `int` by itself. Doing this will not modify any behavior and is safe. When replacing `np.int`, you may wish to use e.g. `np.int64` or `np.int32` to specify the precision. If you wish to review your current use, check the release note link for additional information.\n",
      "Deprecated in NumPy 1.20; for more details and guidance: https://numpy.org/devdocs/release/1.20.0-notes.html#deprecations\n",
      "  (min_h, min_w), shift)).astype(np.int)\n",
      "C:\\Users\\bdr\\anaconda3\\envs\\caienv\\lib\\site-packages\\caiman\\motion_correction.py:269: DeprecationWarning: `np.int` is a deprecated alias for the builtin `int`. To silence this warning, use `int` by itself. Doing this will not modify any behavior and is safe. When replacing `np.int`, you may wish to use e.g. `np.int64` or `np.int32` to specify the precision. If you wish to review your current use, check the release note link for additional information.\n",
      "Deprecated in NumPy 1.20; for more details and guidance: https://numpy.org/devdocs/release/1.20.0-notes.html#deprecations\n",
      "  self.border_to_0 = b0.astype(np.int)\n",
      "C:\\Users\\bdr\\Tmaze\\modules\\preprocess.py:81: DeprecationWarning: `np.int` is a deprecated alias for the builtin `int`. To silence this warning, use `int` by itself. Doing this will not modify any behavior and is safe. When replacing `np.int`, you may wish to use e.g. `np.int64` or `np.int32` to specify the precision. If you wish to review your current use, check the release note link for additional information.\n",
      "Deprecated in NumPy 1.20; for more details and guidance: https://numpy.org/devdocs/release/1.20.0-notes.html#deprecations\n",
      "  bord_px = np.ceil(np.max(np.abs(mc.shifts_rig))).astype(np.int)\n",
      "WARNING:root:Movie average is negative. Removing 1st percentile.\n",
      "WARNING:root:Movie average is negative. Removing 1st percentile.\n",
      "WARNING:root:Movie average is negative. Removing 1st percentile.\n",
      "WARNING:root:Movie average is negative. Removing 1st percentile.\n",
      "WARNING:root:Movie average is negative. Removing 1st percentile.\n",
      "WARNING:root:Movie average is negative. Removing 1st percentile.\n",
      "C:\\Users\\bdr\\anaconda3\\envs\\caienv\\lib\\enum.py:315: ResourceWarning: unclosed file <_io.FileIO name='C:\\\\Users\\\\bdr\\\\Tmaze\\\\project\\\\Reversal_nVista2\\\\data\\\\processed_data\\\\1\\\\Tmaze_reversal\\\\d01\\\\mv.tif' mode='rb' closefd=True>\n",
      "  return cls.__new__(cls, value)\n"
     ]
    }
   ],
   "source": [
    "for task, day in lis:\n",
    "    frames(ri,pc,task,name,day)\n",
    "    movie_concat(ri,pc,task,name,day)\n",
    "    motion_correct(pc,task,name,day)"
   ]
  },
  {
   "cell_type": "code",
   "execution_count": 6,
   "id": "1b5ad853-e62f-40ec-99dd-dafead9cacae",
   "metadata": {},
   "outputs": [],
   "source": [
    "args = [(pc, task, name, day) for task, day in lis]"
   ]
  },
  {
   "cell_type": "code",
   "execution_count": 7,
   "id": "f7d6f793-f38b-440a-8824-8b0b128bab36",
   "metadata": {
    "collapsed": true,
    "jupyter": {
     "outputs_hidden": true
    },
    "tags": []
   },
   "outputs": [
    {
     "ename": "ValueError",
     "evalue": "Cannot save <class 'pathlib.WindowsPath'> type for key 'mmap_file'.",
     "output_type": "error",
     "traceback": [
      "\u001b[1;31m---------------------------------------------------------------------------\u001b[0m",
      "\u001b[1;31mRemoteTraceback\u001b[0m                           Traceback (most recent call last)",
      "\u001b[1;31mRemoteTraceback\u001b[0m: \n\"\"\"\nTraceback (most recent call last):\n  File \"C:\\Users\\bdr\\anaconda3\\envs\\caienv\\lib\\multiprocessing\\pool.py\", line 121, in worker\n    result = (True, func(*args, **kwds))\n  File \"C:\\Users\\bdr\\anaconda3\\envs\\caienv\\lib\\multiprocessing\\pool.py\", line 47, in starmapstar\n    return list(itertools.starmap(args[0], args[1]))\n  File \"C:\\Users\\bdr\\Tmaze\\modules\\preprocess.py\", line 184, in cnmfe\n    cnm.save(str(Path(processed_root)/name/task/day/\"cnm.hdf5\"))\n  File \"C:\\Users\\bdr\\anaconda3\\envs\\caienv\\lib\\site-packages\\caiman\\source_extraction\\cnmf\\cnmf.py\", line 669, in save\n    save_dict_to_hdf5(self.__dict__, filename)\n  File \"C:\\Users\\bdr\\anaconda3\\envs\\caienv\\lib\\site-packages\\caiman\\utils\\utils.py\", line 429, in save_dict_to_hdf5\n    recursively_save_dict_contents_to_group(h5file, subdir, dic)\n  File \"C:\\Users\\bdr\\anaconda3\\envs\\caienv\\lib\\site-packages\\caiman\\utils\\utils.py\", line 526, in recursively_save_dict_contents_to_group\n    raise ValueError(f\"Cannot save {type(item)} type for key '{key}'.\")\nValueError: Cannot save <class 'pathlib.WindowsPath'> type for key 'mmap_file'.\n\"\"\"",
      "\nThe above exception was the direct cause of the following exception:\n",
      "\u001b[1;31mValueError\u001b[0m                                Traceback (most recent call last)",
      "\u001b[1;32m~\\AppData\\Local\\Temp/ipykernel_14828/3522126716.py\u001b[0m in \u001b[0;36m<module>\u001b[1;34m\u001b[0m\n\u001b[1;32m----> 1\u001b[1;33m \u001b[0mparallel\u001b[0m\u001b[1;33m(\u001b[0m\u001b[0mcnmfe\u001b[0m\u001b[1;33m,\u001b[0m \u001b[0margs\u001b[0m\u001b[1;33m)\u001b[0m\u001b[1;33m\u001b[0m\u001b[1;33m\u001b[0m\u001b[0m\n\u001b[0m",
      "\u001b[1;32m~\\Tmaze\\project\\Reversal_nVista2\\utils.py\u001b[0m in \u001b[0;36mparallel\u001b[1;34m(func, args)\u001b[0m\n\u001b[0;32m     29\u001b[0m \u001b[1;32mdef\u001b[0m \u001b[0mparallel\u001b[0m\u001b[1;33m(\u001b[0m\u001b[0mfunc\u001b[0m\u001b[1;33m,\u001b[0m \u001b[0margs\u001b[0m\u001b[1;33m,\u001b[0m \u001b[0mn_processes\u001b[0m\u001b[1;33m=\u001b[0m\u001b[1;32mNone\u001b[0m\u001b[1;33m)\u001b[0m\u001b[1;33m:\u001b[0m\u001b[1;33m\u001b[0m\u001b[1;33m\u001b[0m\u001b[0m\n\u001b[0;32m     30\u001b[0m     \u001b[1;32mif\u001b[0m \u001b[1;32mnot\u001b[0m \u001b[0mn_processes\u001b[0m\u001b[1;33m:\u001b[0m\u001b[1;33m\u001b[0m\u001b[1;33m\u001b[0m\u001b[0m\n\u001b[1;32m---> 31\u001b[1;33m         \u001b[0mp\u001b[0m \u001b[1;33m=\u001b[0m \u001b[0mPool\u001b[0m\u001b[1;33m(\u001b[0m\u001b[1;33m)\u001b[0m\u001b[1;33m\u001b[0m\u001b[1;33m\u001b[0m\u001b[0m\n\u001b[0m\u001b[0;32m     32\u001b[0m     \u001b[1;32melse\u001b[0m\u001b[1;33m:\u001b[0m\u001b[1;33m\u001b[0m\u001b[1;33m\u001b[0m\u001b[0m\n\u001b[0;32m     33\u001b[0m         \u001b[0mp\u001b[0m \u001b[1;33m=\u001b[0m \u001b[0mPool\u001b[0m\u001b[1;33m(\u001b[0m\u001b[0mn_processes\u001b[0m\u001b[1;33m)\u001b[0m\u001b[1;33m\u001b[0m\u001b[1;33m\u001b[0m\u001b[0m\n",
      "\u001b[1;32m~\\anaconda3\\envs\\caienv\\lib\\multiprocessing\\pool.py\u001b[0m in \u001b[0;36mstarmap\u001b[1;34m(self, func, iterable, chunksize)\u001b[0m\n\u001b[0;32m    274\u001b[0m         \u001b[0;31m`\u001b[0m\u001b[0mfunc\u001b[0m\u001b[0;31m`\u001b[0m \u001b[1;32mand\u001b[0m \u001b[1;33m(\u001b[0m\u001b[0ma\u001b[0m\u001b[1;33m,\u001b[0m \u001b[0mb\u001b[0m\u001b[1;33m)\u001b[0m \u001b[0mbecomes\u001b[0m \u001b[0mfunc\u001b[0m\u001b[1;33m(\u001b[0m\u001b[0ma\u001b[0m\u001b[1;33m,\u001b[0m \u001b[0mb\u001b[0m\u001b[1;33m)\u001b[0m\u001b[1;33m.\u001b[0m\u001b[1;33m\u001b[0m\u001b[1;33m\u001b[0m\u001b[0m\n\u001b[0;32m    275\u001b[0m         '''\n\u001b[1;32m--> 276\u001b[1;33m         \u001b[1;32mreturn\u001b[0m \u001b[0mself\u001b[0m\u001b[1;33m.\u001b[0m\u001b[0m_map_async\u001b[0m\u001b[1;33m(\u001b[0m\u001b[0mfunc\u001b[0m\u001b[1;33m,\u001b[0m \u001b[0miterable\u001b[0m\u001b[1;33m,\u001b[0m \u001b[0mstarmapstar\u001b[0m\u001b[1;33m,\u001b[0m \u001b[0mchunksize\u001b[0m\u001b[1;33m)\u001b[0m\u001b[1;33m.\u001b[0m\u001b[0mget\u001b[0m\u001b[1;33m(\u001b[0m\u001b[1;33m)\u001b[0m\u001b[1;33m\u001b[0m\u001b[1;33m\u001b[0m\u001b[0m\n\u001b[0m\u001b[0;32m    277\u001b[0m \u001b[1;33m\u001b[0m\u001b[0m\n\u001b[0;32m    278\u001b[0m     def starmap_async(self, func, iterable, chunksize=None, callback=None,\n",
      "\u001b[1;32m~\\anaconda3\\envs\\caienv\\lib\\multiprocessing\\pool.py\u001b[0m in \u001b[0;36mget\u001b[1;34m(self, timeout)\u001b[0m\n\u001b[0;32m    655\u001b[0m             \u001b[1;32mreturn\u001b[0m \u001b[0mself\u001b[0m\u001b[1;33m.\u001b[0m\u001b[0m_value\u001b[0m\u001b[1;33m\u001b[0m\u001b[1;33m\u001b[0m\u001b[0m\n\u001b[0;32m    656\u001b[0m         \u001b[1;32melse\u001b[0m\u001b[1;33m:\u001b[0m\u001b[1;33m\u001b[0m\u001b[1;33m\u001b[0m\u001b[0m\n\u001b[1;32m--> 657\u001b[1;33m             \u001b[1;32mraise\u001b[0m \u001b[0mself\u001b[0m\u001b[1;33m.\u001b[0m\u001b[0m_value\u001b[0m\u001b[1;33m\u001b[0m\u001b[1;33m\u001b[0m\u001b[0m\n\u001b[0m\u001b[0;32m    658\u001b[0m \u001b[1;33m\u001b[0m\u001b[0m\n\u001b[0;32m    659\u001b[0m     \u001b[1;32mdef\u001b[0m \u001b[0m_set\u001b[0m\u001b[1;33m(\u001b[0m\u001b[0mself\u001b[0m\u001b[1;33m,\u001b[0m \u001b[0mi\u001b[0m\u001b[1;33m,\u001b[0m \u001b[0mobj\u001b[0m\u001b[1;33m)\u001b[0m\u001b[1;33m:\u001b[0m\u001b[1;33m\u001b[0m\u001b[1;33m\u001b[0m\u001b[0m\n",
      "\u001b[1;31mValueError\u001b[0m: Cannot save <class 'pathlib.WindowsPath'> type for key 'mmap_file'."
     ]
    }
   ],
   "source": [
    "parallel(cnmfe, args)"
   ]
  },
  {
   "cell_type": "code",
   "execution_count": 9,
   "id": "2c080601-59c1-4408-8995-b71e383b43e3",
   "metadata": {},
   "outputs": [
    {
     "name": "stderr",
     "output_type": "stream",
     "text": [
      "C:\\Users\\bdr\\anaconda3\\envs\\caienv\\lib\\site-packages\\h5py\\_hl\\dataset.py:541: DeprecationWarning: Passing None into shape arguments as an alias for () is deprecated.\n",
      "  arr = numpy.ndarray(selection.mshape, dtype=new_dtype)\n"
     ]
    }
   ],
   "source": [
    "for task,day in lis:\n",
    "    comb(pc, task, name, day)"
   ]
  }
 ],
 "metadata": {
  "kernelspec": {
   "display_name": "Python 3 (ipykernel)",
   "language": "python",
   "name": "python3"
  },
  "language_info": {
   "codemirror_mode": {
    "name": "ipython",
    "version": 3
   },
   "file_extension": ".py",
   "mimetype": "text/x-python",
   "name": "python",
   "nbconvert_exporter": "python",
   "pygments_lexer": "ipython3",
   "version": "3.7.10"
  }
 },
 "nbformat": 4,
 "nbformat_minor": 5
}
