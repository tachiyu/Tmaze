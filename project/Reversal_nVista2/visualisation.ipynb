{
 "cells": [
  {
   "cell_type": "code",
   "execution_count": 22,
   "id": "dab6f853-788b-40aa-b431-6bf4c62924de",
   "metadata": {
    "tags": []
   },
   "outputs": [],
   "source": [
    "from utils import *"
   ]
  },
  {
   "cell_type": "code",
   "execution_count": 23,
   "id": "d5491bc9-d03d-490b-953e-b6b05db56854",
   "metadata": {},
   "outputs": [],
   "source": [
    "task, name, day = \"Tmaze_reversal\", \"1\", \"d02\""
   ]
  },
  {
   "cell_type": "code",
   "execution_count": 24,
   "id": "940e3218-b1d6-4f3e-bfbe-3239594d9998",
   "metadata": {
    "tags": []
   },
   "outputs": [],
   "source": [
    "dfs = load_dfs(task, name, day)"
   ]
  },
  {
   "cell_type": "code",
   "execution_count": 25,
   "id": "d48130f0-1f8d-4fda-b6bb-55e6ea4dea93",
   "metadata": {},
   "outputs": [
    {
     "data": {
      "text/html": [
       "<div>\n",
       "<style scoped>\n",
       "    .dataframe tbody tr th:only-of-type {\n",
       "        vertical-align: middle;\n",
       "    }\n",
       "\n",
       "    .dataframe tbody tr th {\n",
       "        vertical-align: top;\n",
       "    }\n",
       "\n",
       "    .dataframe thead th {\n",
       "        text-align: right;\n",
       "    }\n",
       "</style>\n",
       "<table border=\"1\" class=\"dataframe\">\n",
       "  <thead>\n",
       "    <tr style=\"text-align: right;\">\n",
       "      <th></th>\n",
       "      <th>t</th>\n",
       "      <th>trial</th>\n",
       "      <th>bin</th>\n",
       "      <th>type</th>\n",
       "      <th>choice</th>\n",
       "      <th>rewarded</th>\n",
       "      <th>rundir</th>\n",
       "      <th>speed</th>\n",
       "      <th>stimulus</th>\n",
       "      <th>pretype</th>\n",
       "      <th>...</th>\n",
       "      <th>cell1028</th>\n",
       "      <th>cell1029</th>\n",
       "      <th>cell1030</th>\n",
       "      <th>cell1031</th>\n",
       "      <th>cell1032</th>\n",
       "      <th>cell1033</th>\n",
       "      <th>cell1034</th>\n",
       "      <th>cell1035</th>\n",
       "      <th>cell1036</th>\n",
       "      <th>block</th>\n",
       "    </tr>\n",
       "  </thead>\n",
       "  <tbody>\n",
       "    <tr>\n",
       "      <th>0</th>\n",
       "      <td>0.0</td>\n",
       "      <td>0</td>\n",
       "      <td>0.0</td>\n",
       "      <td>BB</td>\n",
       "      <td>L</td>\n",
       "      <td>0</td>\n",
       "      <td>0.00</td>\n",
       "      <td>0.000000</td>\n",
       "      <td>B</td>\n",
       "      <td>NaN</td>\n",
       "      <td>...</td>\n",
       "      <td>0.000000</td>\n",
       "      <td>24.531082</td>\n",
       "      <td>0.000000</td>\n",
       "      <td>0.000000</td>\n",
       "      <td>2.760733</td>\n",
       "      <td>7.761811</td>\n",
       "      <td>0.00000</td>\n",
       "      <td>0.000000</td>\n",
       "      <td>0.000000</td>\n",
       "      <td>0</td>\n",
       "    </tr>\n",
       "    <tr>\n",
       "      <th>1</th>\n",
       "      <td>50.0</td>\n",
       "      <td>0</td>\n",
       "      <td>0.0</td>\n",
       "      <td>BB</td>\n",
       "      <td>L</td>\n",
       "      <td>0</td>\n",
       "      <td>0.23</td>\n",
       "      <td>7.230936</td>\n",
       "      <td>B</td>\n",
       "      <td>NaN</td>\n",
       "      <td>...</td>\n",
       "      <td>0.000000</td>\n",
       "      <td>37.095960</td>\n",
       "      <td>0.000000</td>\n",
       "      <td>0.000000</td>\n",
       "      <td>3.020654</td>\n",
       "      <td>0.000000</td>\n",
       "      <td>0.00000</td>\n",
       "      <td>0.000000</td>\n",
       "      <td>0.000000</td>\n",
       "      <td>0</td>\n",
       "    </tr>\n",
       "    <tr>\n",
       "      <th>2</th>\n",
       "      <td>100.0</td>\n",
       "      <td>0</td>\n",
       "      <td>0.0</td>\n",
       "      <td>BB</td>\n",
       "      <td>L</td>\n",
       "      <td>0</td>\n",
       "      <td>0.69</td>\n",
       "      <td>6.697181</td>\n",
       "      <td>B</td>\n",
       "      <td>NaN</td>\n",
       "      <td>...</td>\n",
       "      <td>6.265937</td>\n",
       "      <td>21.754871</td>\n",
       "      <td>0.000000</td>\n",
       "      <td>0.000000</td>\n",
       "      <td>0.000000</td>\n",
       "      <td>2.079896</td>\n",
       "      <td>0.00000</td>\n",
       "      <td>0.000000</td>\n",
       "      <td>0.000000</td>\n",
       "      <td>0</td>\n",
       "    </tr>\n",
       "    <tr>\n",
       "      <th>3</th>\n",
       "      <td>150.0</td>\n",
       "      <td>0</td>\n",
       "      <td>0.0</td>\n",
       "      <td>BB</td>\n",
       "      <td>L</td>\n",
       "      <td>0</td>\n",
       "      <td>1.10</td>\n",
       "      <td>6.821532</td>\n",
       "      <td>B</td>\n",
       "      <td>NaN</td>\n",
       "      <td>...</td>\n",
       "      <td>3.666856</td>\n",
       "      <td>11.843967</td>\n",
       "      <td>0.000000</td>\n",
       "      <td>0.000000</td>\n",
       "      <td>2.997552</td>\n",
       "      <td>2.489765</td>\n",
       "      <td>0.00000</td>\n",
       "      <td>0.000000</td>\n",
       "      <td>1.353989</td>\n",
       "      <td>0</td>\n",
       "    </tr>\n",
       "    <tr>\n",
       "      <th>4</th>\n",
       "      <td>200.0</td>\n",
       "      <td>0</td>\n",
       "      <td>0.0</td>\n",
       "      <td>BB</td>\n",
       "      <td>L</td>\n",
       "      <td>0</td>\n",
       "      <td>1.11</td>\n",
       "      <td>6.683642</td>\n",
       "      <td>B</td>\n",
       "      <td>NaN</td>\n",
       "      <td>...</td>\n",
       "      <td>0.000000</td>\n",
       "      <td>17.623964</td>\n",
       "      <td>0.000000</td>\n",
       "      <td>0.000000</td>\n",
       "      <td>1.771279</td>\n",
       "      <td>0.000000</td>\n",
       "      <td>0.00000</td>\n",
       "      <td>0.000000</td>\n",
       "      <td>0.000000</td>\n",
       "      <td>0</td>\n",
       "    </tr>\n",
       "    <tr>\n",
       "      <th>...</th>\n",
       "      <td>...</td>\n",
       "      <td>...</td>\n",
       "      <td>...</td>\n",
       "      <td>...</td>\n",
       "      <td>...</td>\n",
       "      <td>...</td>\n",
       "      <td>...</td>\n",
       "      <td>...</td>\n",
       "      <td>...</td>\n",
       "      <td>...</td>\n",
       "      <td>...</td>\n",
       "      <td>...</td>\n",
       "      <td>...</td>\n",
       "      <td>...</td>\n",
       "      <td>...</td>\n",
       "      <td>...</td>\n",
       "      <td>...</td>\n",
       "      <td>...</td>\n",
       "      <td>...</td>\n",
       "      <td>...</td>\n",
       "      <td>...</td>\n",
       "    </tr>\n",
       "    <tr>\n",
       "      <th>34274</th>\n",
       "      <td>191500.0</td>\n",
       "      <td>78</td>\n",
       "      <td>30.0</td>\n",
       "      <td>AA</td>\n",
       "      <td>R</td>\n",
       "      <td>0</td>\n",
       "      <td>-16.53</td>\n",
       "      <td>16.604383</td>\n",
       "      <td>A</td>\n",
       "      <td>AA</td>\n",
       "      <td>...</td>\n",
       "      <td>6.695799</td>\n",
       "      <td>0.000000</td>\n",
       "      <td>9.904515</td>\n",
       "      <td>2.447473</td>\n",
       "      <td>4.658959</td>\n",
       "      <td>19.408310</td>\n",
       "      <td>49.46767</td>\n",
       "      <td>0.000000</td>\n",
       "      <td>0.000000</td>\n",
       "      <td>4</td>\n",
       "    </tr>\n",
       "    <tr>\n",
       "      <th>34275</th>\n",
       "      <td>191550.0</td>\n",
       "      <td>78</td>\n",
       "      <td>30.0</td>\n",
       "      <td>AA</td>\n",
       "      <td>R</td>\n",
       "      <td>0</td>\n",
       "      <td>-15.27</td>\n",
       "      <td>15.306799</td>\n",
       "      <td>A</td>\n",
       "      <td>AA</td>\n",
       "      <td>...</td>\n",
       "      <td>0.000000</td>\n",
       "      <td>3.344422</td>\n",
       "      <td>13.776966</td>\n",
       "      <td>1.029667</td>\n",
       "      <td>0.000000</td>\n",
       "      <td>20.146252</td>\n",
       "      <td>64.93876</td>\n",
       "      <td>0.000000</td>\n",
       "      <td>0.000000</td>\n",
       "      <td>4</td>\n",
       "    </tr>\n",
       "    <tr>\n",
       "      <th>34276</th>\n",
       "      <td>191600.0</td>\n",
       "      <td>78</td>\n",
       "      <td>30.0</td>\n",
       "      <td>AA</td>\n",
       "      <td>R</td>\n",
       "      <td>0</td>\n",
       "      <td>-18.19</td>\n",
       "      <td>18.604140</td>\n",
       "      <td>A</td>\n",
       "      <td>AA</td>\n",
       "      <td>...</td>\n",
       "      <td>0.000000</td>\n",
       "      <td>7.296879</td>\n",
       "      <td>18.029337</td>\n",
       "      <td>6.116259</td>\n",
       "      <td>15.611519</td>\n",
       "      <td>29.307518</td>\n",
       "      <td>64.71269</td>\n",
       "      <td>0.000000</td>\n",
       "      <td>3.150481</td>\n",
       "      <td>4</td>\n",
       "    </tr>\n",
       "    <tr>\n",
       "      <th>34277</th>\n",
       "      <td>191650.0</td>\n",
       "      <td>78</td>\n",
       "      <td>30.0</td>\n",
       "      <td>AA</td>\n",
       "      <td>R</td>\n",
       "      <td>0</td>\n",
       "      <td>-16.40</td>\n",
       "      <td>17.865307</td>\n",
       "      <td>A</td>\n",
       "      <td>AA</td>\n",
       "      <td>...</td>\n",
       "      <td>4.604977</td>\n",
       "      <td>1.356120</td>\n",
       "      <td>12.598782</td>\n",
       "      <td>2.772963</td>\n",
       "      <td>7.971274</td>\n",
       "      <td>9.763074</td>\n",
       "      <td>50.92117</td>\n",
       "      <td>0.000000</td>\n",
       "      <td>0.000000</td>\n",
       "      <td>4</td>\n",
       "    </tr>\n",
       "    <tr>\n",
       "      <th>34278</th>\n",
       "      <td>191700.0</td>\n",
       "      <td>78</td>\n",
       "      <td>30.0</td>\n",
       "      <td>AA</td>\n",
       "      <td>R</td>\n",
       "      <td>0</td>\n",
       "      <td>-18.21</td>\n",
       "      <td>20.850116</td>\n",
       "      <td>A</td>\n",
       "      <td>AA</td>\n",
       "      <td>...</td>\n",
       "      <td>6.772318</td>\n",
       "      <td>0.000000</td>\n",
       "      <td>13.328807</td>\n",
       "      <td>11.995029</td>\n",
       "      <td>7.312462</td>\n",
       "      <td>10.543200</td>\n",
       "      <td>62.47049</td>\n",
       "      <td>8.650071</td>\n",
       "      <td>0.000000</td>\n",
       "      <td>4</td>\n",
       "    </tr>\n",
       "  </tbody>\n",
       "</table>\n",
       "<p>34279 rows × 1056 columns</p>\n",
       "</div>"
      ],
      "text/plain": [
       "              t  trial   bin type choice  rewarded  rundir      speed  \\\n",
       "0           0.0      0   0.0   BB      L         0    0.00   0.000000   \n",
       "1          50.0      0   0.0   BB      L         0    0.23   7.230936   \n",
       "2         100.0      0   0.0   BB      L         0    0.69   6.697181   \n",
       "3         150.0      0   0.0   BB      L         0    1.10   6.821532   \n",
       "4         200.0      0   0.0   BB      L         0    1.11   6.683642   \n",
       "...         ...    ...   ...  ...    ...       ...     ...        ...   \n",
       "34274  191500.0     78  30.0   AA      R         0  -16.53  16.604383   \n",
       "34275  191550.0     78  30.0   AA      R         0  -15.27  15.306799   \n",
       "34276  191600.0     78  30.0   AA      R         0  -18.19  18.604140   \n",
       "34277  191650.0     78  30.0   AA      R         0  -16.40  17.865307   \n",
       "34278  191700.0     78  30.0   AA      R         0  -18.21  20.850116   \n",
       "\n",
       "      stimulus pretype  ...  cell1028   cell1029   cell1030   cell1031  \\\n",
       "0            B     NaN  ...  0.000000  24.531082   0.000000   0.000000   \n",
       "1            B     NaN  ...  0.000000  37.095960   0.000000   0.000000   \n",
       "2            B     NaN  ...  6.265937  21.754871   0.000000   0.000000   \n",
       "3            B     NaN  ...  3.666856  11.843967   0.000000   0.000000   \n",
       "4            B     NaN  ...  0.000000  17.623964   0.000000   0.000000   \n",
       "...        ...     ...  ...       ...        ...        ...        ...   \n",
       "34274        A      AA  ...  6.695799   0.000000   9.904515   2.447473   \n",
       "34275        A      AA  ...  0.000000   3.344422  13.776966   1.029667   \n",
       "34276        A      AA  ...  0.000000   7.296879  18.029337   6.116259   \n",
       "34277        A      AA  ...  4.604977   1.356120  12.598782   2.772963   \n",
       "34278        A      AA  ...  6.772318   0.000000  13.328807  11.995029   \n",
       "\n",
       "        cell1032   cell1033  cell1034  cell1035  cell1036  block  \n",
       "0       2.760733   7.761811   0.00000  0.000000  0.000000      0  \n",
       "1       3.020654   0.000000   0.00000  0.000000  0.000000      0  \n",
       "2       0.000000   2.079896   0.00000  0.000000  0.000000      0  \n",
       "3       2.997552   2.489765   0.00000  0.000000  1.353989      0  \n",
       "4       1.771279   0.000000   0.00000  0.000000  0.000000      0  \n",
       "...          ...        ...       ...       ...       ...    ...  \n",
       "34274   4.658959  19.408310  49.46767  0.000000  0.000000      4  \n",
       "34275   0.000000  20.146252  64.93876  0.000000  0.000000      4  \n",
       "34276  15.611519  29.307518  64.71269  0.000000  3.150481      4  \n",
       "34277   7.971274   9.763074  50.92117  0.000000  0.000000      4  \n",
       "34278   7.312462  10.543200  62.47049  8.650071  0.000000      4  \n",
       "\n",
       "[34279 rows x 1056 columns]"
      ]
     },
     "execution_count": 25,
     "metadata": {},
     "output_type": "execute_result"
    }
   ],
   "source": [
    "dfs"
   ]
  },
  {
   "cell_type": "code",
   "execution_count": 27,
   "id": "07a36f77-883f-492f-ad58-3e066d99d756",
   "metadata": {},
   "outputs": [],
   "source": [
    "dfsb = ca_events(dfs)"
   ]
  },
  {
   "cell_type": "code",
   "execution_count": 28,
   "id": "cacd2e11-8b4b-4225-a5e3-de2c2061f572",
   "metadata": {},
   "outputs": [
    {
     "data": {
      "application/vnd.jupyter.widget-view+json": {
       "model_id": "4cd74193a7d04b1d8f237b8b4fa0e36f",
       "version_major": 2,
       "version_minor": 0
      },
      "text/plain": [
       "interactive(children=(Dropdown(description='c', options=('cell0', 'cell1', 'cell2', 'cell3', 'cell4', 'cell5',…"
      ]
     },
     "metadata": {},
     "output_type": "display_data"
    }
   ],
   "source": [
    "trial_map(dfsb)"
   ]
  },
  {
   "cell_type": "code",
   "execution_count": 26,
   "id": "ccff8d8b-c061-4235-98e1-2f7ad128fc3d",
   "metadata": {},
   "outputs": [
    {
     "data": {
      "application/vnd.jupyter.widget-view+json": {
       "model_id": "4e9f4cff09224925ace56dd1fbcfe55d",
       "version_major": 2,
       "version_minor": 0
      },
      "text/plain": [
       "interactive(children=(Dropdown(description='c', options=('cell0', 'cell1', 'cell2', 'cell3', 'cell4', 'cell5',…"
      ]
     },
     "metadata": {},
     "output_type": "display_data"
    }
   ],
   "source": [
    "trial_map(dfs)"
   ]
  },
  {
   "cell_type": "code",
   "execution_count": 19,
   "id": "419da7d5-35e9-4d83-b109-55a5324a6c09",
   "metadata": {},
   "outputs": [],
   "source": [
    "df0 = dfs[dfs.trial<40]"
   ]
  },
  {
   "cell_type": "code",
   "execution_count": 16,
   "id": "f863fd99-4766-4f9e-ab34-02881e8ec2dc",
   "metadata": {},
   "outputs": [],
   "source": [
    "df = dfs[dfs.trial>40]"
   ]
  },
  {
   "cell_type": "code",
   "execution_count": 20,
   "id": "e95e3eda-9d44-4213-8a8c-6558aafe0d0d",
   "metadata": {},
   "outputs": [
    {
     "name": "stdout",
     "output_type": "stream",
     "text": [
      "[(31, 31), (31, 31), (31, 31)]\n"
     ]
    },
    {
     "data": {
      "image/png": "[encoded data removed]",
      "text/plain": [
       "<Figure size 1440x576 with 4 Axes>"
      ]
     },
     "metadata": {
      "needs_background": "light"
     },
     "output_type": "display_data"
    }
   ],
   "source": [
    "rsa_matrix(df0, \"type=='AA'\", \"type=='BB'\")"
   ]
  },
  {
   "cell_type": "code",
   "execution_count": 21,
   "id": "c8e8fcdb-4362-4ee1-ad35-12c8374536cd",
   "metadata": {},
   "outputs": [
    {
     "name": "stdout",
     "output_type": "stream",
     "text": [
      "[(31, 31), (31, 31), (31, 31)]\n"
     ]
    },
    {
     "data": {
      "image/png": "[encoded data removed]",
      "text/plain": [
       "<Figure size 1440x576 with 4 Axes>"
      ]
     },
     "metadata": {
      "needs_background": "light"
     },
     "output_type": "display_data"
    }
   ],
   "source": [
    "rsa_matrix(df, \"type=='AA'\", \"type=='BB'\")"
   ]
  },
  {
   "cell_type": "code",
   "execution_count": null,
   "id": "6823ee30-c89e-4fb7-a9f1-21005ea60baa",
   "metadata": {},
   "outputs": [],
   "source": []
  }
 ],
 "metadata": {
  "kernelspec": {
   "display_name": "Python 3 (ipykernel)",
   "language": "python",
   "name": "python3"
  },
  "language_info": {
   "codemirror_mode": {
    "name": "ipython",
    "version": 3
   },
   "file_extension": ".py",
   "mimetype": "text/x-python",
   "name": "python",
   "nbconvert_exporter": "python",
   "pygments_lexer": "ipython3",
   "version": "3.7.10"
  }
 },
 "nbformat": 4,
 "nbformat_minor": 5
}
