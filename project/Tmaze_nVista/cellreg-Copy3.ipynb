{
 "cells": [
  {
   "cell_type": "code",
   "execution_count": 1,
   "id": "ba8691af-7531-4c0d-ba66-7cc91b12a39e",
   "metadata": {},
   "outputs": [],
   "source": [
    "from utils import *"
   ]
  },
  {
   "cell_type": "code",
   "execution_count": 2,
   "id": "3bad0c15-702c-4687-8c34-ef2d730f3436",
   "metadata": {
    "scrolled": true,
    "tags": []
   },
   "outputs": [],
   "source": [
    "args = []\n",
    "for NAME in ['A1','A2','A3','B1','B2','C']:\n",
    "    filepath = Path(pc)/'cellreg'/NAME/'choice_cells_teleport'\n",
    "    filepath.mkdir(parents=True, exist_ok=True)\n",
    "    args.append([NAME, ['Tmaze_random', 'Tmaze_halfSwitch'], \"speed>2\", [\"choice=='L'\", \"choice=='R'\"], filepath])"
   ]
  },
  {
   "cell_type": "code",
   "execution_count": 3,
   "id": "f55865c4-b603-4d1b-ba52-889e3add656b",
   "metadata": {},
   "outputs": [
    {
     "data": {
      "text/plain": [
       "[None, None, None, None, None, None]"
      ]
     },
     "execution_count": 3,
     "metadata": {},
     "output_type": "execute_result"
    }
   ],
   "source": [
    "parallel(place_cells, args)"
   ]
  },
  {
   "cell_type": "code",
   "execution_count": 53,
   "id": "274b0320-d7bb-4bcb-9651-eca5ab9d3cee",
   "metadata": {},
   "outputs": [],
   "source": [
    "NAME = \"A1\""
   ]
  },
  {
   "cell_type": "code",
   "execution_count": 66,
   "id": "ff67c970-a09e-4a52-a138-1130b2f12c19",
   "metadata": {},
   "outputs": [],
   "source": [
    "lastday=12"
   ]
  },
  {
   "cell_type": "code",
   "execution_count": 67,
   "id": "cf8e792c-7b58-466e-9f09-3d832551c700",
   "metadata": {},
   "outputs": [],
   "source": [
    "props = {}\n",
    "dfss = {}\n",
    "for task,name,day,*_ in ptt[ptt.ForUse&ptt.CellReg&ptt.Task.isin(['Tmaze_random', 'Tmaze_halfSwitch'])&(ptt.Name==NAME)].values:\n",
    "    prop = load_pc_prop(task,name,day,general_cond)\n",
    "    if (task,day) == (\"Tmaze_random\",f\"d{lastday}\"):\n",
    "        prop2 = prop[(prop[\"type=='AA'\"] > 13) & (prop[\"type=='AA'\"] < 20)]\n",
    "    else:\n",
    "        prop2 = prop\n",
    "    props[(task,day)] = prop2\n",
    "    dfss[(task,day)] = ca_events(load_dfs(task,name,day)).query(\"speed>2\")"
   ]
  },
  {
   "cell_type": "code",
   "execution_count": 68,
   "id": "bfec1b8c-5848-4946-b5a4-1ef64372da72",
   "metadata": {},
   "outputs": [],
   "source": [
    "plast = props[(\"Tmaze_random\",f\"d{lastday}\")]"
   ]
  },
  {
   "cell_type": "code",
   "execution_count": 69,
   "id": "b553382e-28c1-4475-8abf-eab3449db75c",
   "metadata": {},
   "outputs": [],
   "source": [
    "idx = plast[~plast.id.isnull()].id"
   ]
  },
  {
   "cell_type": "code",
   "execution_count": 70,
   "id": "d742f140-d14e-4997-aadc-266d72352d61",
   "metadata": {},
   "outputs": [],
   "source": [
    "conds = [\"type=='AA'\", \"type=='BB'\", \"type=='AB'\", \"type=='BA'\"]"
   ]
  },
  {
   "cell_type": "code",
   "execution_count": 72,
   "id": "43f6c59b-3be3-47c5-b5a4-3c090504a2fb",
   "metadata": {
    "tags": []
   },
   "outputs": [
    {
     "data": {
      "application/vnd.jupyter.widget-view+json": {
       "model_id": "6fcb692f7434497485a861fe99091dd7",
       "version_major": 2,
       "version_minor": 0
      },
      "text/plain": [
       "interactive(children=(Dropdown(description='i', options=(193.0, 544.0, 42.0, 199.0, 373.0, 1613.0, 326.0, 433.…"
      ]
     },
     "metadata": {},
     "output_type": "display_data"
    }
   ],
   "source": [
    "for i in idx:\n",
    "    i = int(i)\n",
    "    fig, ax = plt.subplots(len(props), len(conds), figsize=(20,40))\n",
    "    for a, (task,day) in zip(ax[:,0], list(props.keys())):\n",
    "        a.set_ylabel(f\"{day}\",size='large', fontsize=10)\n",
    "    for j in range(len(ax)):\n",
    "        task, day = list(props.keys())[j]\n",
    "        prop = props[(task,day)]\n",
    "        row = prop[prop.id==i]\n",
    "        if row.shape[0] > 0:\n",
    "            n = row.index[0]\n",
    "            dfs = dfss[(task,day)]\n",
    "            for k,cond in enumerate(conds):\n",
    "                if cond in row.columns:\n",
    "                    ax[j,k].imshow(dfs.query(cond).pivot_table(values=f'cell{n}',columns='bin',index='trial'), aspect='auto',interpolation='None')\n",
    "                    if row[cond].iloc[0] >= 0:\n",
    "                        ax[j,k].axvline(row[cond].iloc[0], alpha=0.5,color='red',linewidth=4)   "
   ]
  },
  {
   "cell_type": "code",
   "execution_count": 12,
   "id": "d20ad317-552e-495a-89dd-febd0bd6d0c1",
   "metadata": {},
   "outputs": [
    {
     "data": {
      "application/vnd.jupyter.widget-view+json": {
       "model_id": "6622de1e48664eb48ce4f5461c2b90ff",
       "version_major": 2,
       "version_minor": 0
      },
      "text/plain": [
       "interactive(children=(Dropdown(description='c', options=('cell19', 'cell32', 'cell60', 'cell75', 'cell76', 'ce…"
      ]
     },
     "metadata": {},
     "output_type": "display_data"
    }
   ],
   "source": [
    "trial_map(dfs, \"type=='AA'\", prop2.index)"
   ]
  },
  {
   "cell_type": "code",
   "execution_count": 10,
   "id": "4ed8745a-cda0-4f42-861c-f244c558c069",
   "metadata": {},
   "outputs": [],
   "source": [
    "a = None"
   ]
  },
  {
   "cell_type": "code",
   "execution_count": 16,
   "id": "ec6a94f4-d1df-4338-8ef8-b69274567dfc",
   "metadata": {},
   "outputs": [],
   "source": [
    "a = np.array([1,2,3])"
   ]
  },
  {
   "cell_type": "code",
   "execution_count": 19,
   "id": "b71afbb1-84ff-402f-b1a9-76ab38da38bc",
   "metadata": {},
   "outputs": [
    {
     "data": {
      "text/plain": [
       "(3,)"
      ]
     },
     "execution_count": 19,
     "metadata": {},
     "output_type": "execute_result"
    }
   ],
   "source": [
    "a.shape"
   ]
  },
  {
   "cell_type": "code",
   "execution_count": 18,
   "id": "33060c38-18c8-4770-a421-fbcde5c0972d",
   "metadata": {},
   "outputs": [
    {
     "ename": "ValueError",
     "evalue": "The truth value of an array with more than one element is ambiguous. Use a.any() or a.all()",
     "output_type": "error",
     "traceback": [
      "\u001b[1;31m---------------------------------------------------------------------------\u001b[0m",
      "\u001b[1;31mValueError\u001b[0m                                Traceback (most recent call last)",
      "\u001b[1;32m~\\AppData\\Local\\Temp/ipykernel_5764/738525883.py\u001b[0m in \u001b[0;36m<module>\u001b[1;34m\u001b[0m\n\u001b[1;32m----> 1\u001b[1;33m \u001b[0mbool\u001b[0m\u001b[1;33m(\u001b[0m\u001b[0ma\u001b[0m\u001b[1;33m)\u001b[0m\u001b[1;33m\u001b[0m\u001b[1;33m\u001b[0m\u001b[0m\n\u001b[0m",
      "\u001b[1;31mValueError\u001b[0m: The truth value of an array with more than one element is ambiguous. Use a.any() or a.all()"
     ]
    }
   ],
   "source": [
    "bool(a)"
   ]
  },
  {
   "cell_type": "code",
   "execution_count": 15,
   "id": "03be2afb-2109-4b34-a7fd-d114a5a3de03",
   "metadata": {},
   "outputs": [
    {
     "data": {
      "text/plain": [
       "array([], dtype=float64)"
      ]
     },
     "execution_count": 15,
     "metadata": {},
     "output_type": "execute_result"
    }
   ],
   "source": [
    "a"
   ]
  },
  {
   "cell_type": "code",
   "execution_count": null,
   "id": "4803dc26-3eee-4ae5-9fbc-11d628b93f5d",
   "metadata": {},
   "outputs": [],
   "source": []
  }
 ],
 "metadata": {
  "kernelspec": {
   "display_name": "Python 3 (ipykernel)",
   "language": "python",
   "name": "python3"
  },
  "language_info": {
   "codemirror_mode": {
    "name": "ipython",
    "version": 3
   },
   "file_extension": ".py",
   "mimetype": "text/x-python",
   "name": "python",
   "nbconvert_exporter": "python",
   "pygments_lexer": "ipython3",
   "version": "3.7.10"
  }
 },
 "nbformat": 4,
 "nbformat_minor": 5
}
