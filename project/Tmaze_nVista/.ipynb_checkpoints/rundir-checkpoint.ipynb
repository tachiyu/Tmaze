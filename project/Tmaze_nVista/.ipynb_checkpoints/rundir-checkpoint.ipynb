{
 "cells": [
  {
   "cell_type": "code",
   "execution_count": 1,
   "id": "9a5be1f8-6ae4-499e-a3b0-36696a0d1eff",
   "metadata": {
    "collapsed": true,
    "jupyter": {
     "outputs_hidden": true
    },
    "tags": []
   },
   "outputs": [
    {
     "name": "stderr",
     "output_type": "stream",
     "text": [
      "C:\\Users\\bdr\\anaconda3\\envs\\caienv\\lib\\site-packages\\tensorflow\\python\\framework\\dtypes.py:516: FutureWarning: Passing (type, 1) or '1type' as a synonym of type is deprecated; in a future version of numpy, it will be understood as (type, (1,)) / '(1,)type'.\n",
      "  _np_qint8 = np.dtype([(\"qint8\", np.int8, 1)])\n",
      "C:\\Users\\bdr\\anaconda3\\envs\\caienv\\lib\\site-packages\\tensorflow\\python\\framework\\dtypes.py:517: FutureWarning: Passing (type, 1) or '1type' as a synonym of type is deprecated; in a future version of numpy, it will be understood as (type, (1,)) / '(1,)type'.\n",
      "  _np_quint8 = np.dtype([(\"quint8\", np.uint8, 1)])\n",
      "C:\\Users\\bdr\\anaconda3\\envs\\caienv\\lib\\site-packages\\tensorflow\\python\\framework\\dtypes.py:518: FutureWarning: Passing (type, 1) or '1type' as a synonym of type is deprecated; in a future version of numpy, it will be understood as (type, (1,)) / '(1,)type'.\n",
      "  _np_qint16 = np.dtype([(\"qint16\", np.int16, 1)])\n",
      "C:\\Users\\bdr\\anaconda3\\envs\\caienv\\lib\\site-packages\\tensorflow\\python\\framework\\dtypes.py:519: FutureWarning: Passing (type, 1) or '1type' as a synonym of type is deprecated; in a future version of numpy, it will be understood as (type, (1,)) / '(1,)type'.\n",
      "  _np_quint16 = np.dtype([(\"quint16\", np.uint16, 1)])\n",
      "C:\\Users\\bdr\\anaconda3\\envs\\caienv\\lib\\site-packages\\tensorflow\\python\\framework\\dtypes.py:520: FutureWarning: Passing (type, 1) or '1type' as a synonym of type is deprecated; in a future version of numpy, it will be understood as (type, (1,)) / '(1,)type'.\n",
      "  _np_qint32 = np.dtype([(\"qint32\", np.int32, 1)])\n",
      "C:\\Users\\bdr\\anaconda3\\envs\\caienv\\lib\\site-packages\\tensorflow\\python\\framework\\dtypes.py:525: FutureWarning: Passing (type, 1) or '1type' as a synonym of type is deprecated; in a future version of numpy, it will be understood as (type, (1,)) / '(1,)type'.\n",
      "  np_resource = np.dtype([(\"resource\", np.ubyte, 1)])\n",
      "C:\\Users\\bdr\\anaconda3\\envs\\caienv\\lib\\site-packages\\tensorboard\\compat\\tensorflow_stub\\dtypes.py:541: FutureWarning: Passing (type, 1) or '1type' as a synonym of type is deprecated; in a future version of numpy, it will be understood as (type, (1,)) / '(1,)type'.\n",
      "  _np_qint8 = np.dtype([(\"qint8\", np.int8, 1)])\n",
      "C:\\Users\\bdr\\anaconda3\\envs\\caienv\\lib\\site-packages\\tensorboard\\compat\\tensorflow_stub\\dtypes.py:542: FutureWarning: Passing (type, 1) or '1type' as a synonym of type is deprecated; in a future version of numpy, it will be understood as (type, (1,)) / '(1,)type'.\n",
      "  _np_quint8 = np.dtype([(\"quint8\", np.uint8, 1)])\n",
      "C:\\Users\\bdr\\anaconda3\\envs\\caienv\\lib\\site-packages\\tensorboard\\compat\\tensorflow_stub\\dtypes.py:543: FutureWarning: Passing (type, 1) or '1type' as a synonym of type is deprecated; in a future version of numpy, it will be understood as (type, (1,)) / '(1,)type'.\n",
      "  _np_qint16 = np.dtype([(\"qint16\", np.int16, 1)])\n",
      "C:\\Users\\bdr\\anaconda3\\envs\\caienv\\lib\\site-packages\\tensorboard\\compat\\tensorflow_stub\\dtypes.py:544: FutureWarning: Passing (type, 1) or '1type' as a synonym of type is deprecated; in a future version of numpy, it will be understood as (type, (1,)) / '(1,)type'.\n",
      "  _np_quint16 = np.dtype([(\"quint16\", np.uint16, 1)])\n",
      "C:\\Users\\bdr\\anaconda3\\envs\\caienv\\lib\\site-packages\\tensorboard\\compat\\tensorflow_stub\\dtypes.py:545: FutureWarning: Passing (type, 1) or '1type' as a synonym of type is deprecated; in a future version of numpy, it will be understood as (type, (1,)) / '(1,)type'.\n",
      "  _np_qint32 = np.dtype([(\"qint32\", np.int32, 1)])\n",
      "C:\\Users\\bdr\\anaconda3\\envs\\caienv\\lib\\site-packages\\tensorboard\\compat\\tensorflow_stub\\dtypes.py:550: FutureWarning: Passing (type, 1) or '1type' as a synonym of type is deprecated; in a future version of numpy, it will be understood as (type, (1,)) / '(1,)type'.\n",
      "  np_resource = np.dtype([(\"resource\", np.ubyte, 1)])\n"
     ]
    }
   ],
   "source": [
    "from utils import *"
   ]
  },
  {
   "cell_type": "code",
   "execution_count": 204,
   "id": "91dae6bd-178c-44ba-944c-9b68ca015cba",
   "metadata": {},
   "outputs": [],
   "source": [
    "task, name, day = \"Tmaze_random\", \"A1\", \"d12\""
   ]
  },
  {
   "cell_type": "code",
   "execution_count": 207,
   "id": "8f7fc472-51ed-42f5-b1a6-9cc9b1ce2e51",
   "metadata": {},
   "outputs": [],
   "source": [
    "dfs = load_dfs(task, name, day)\n",
    "#gaussian smoothing rundir\n",
    "dfs['rundir'] = gaussian_filter1d(dfs.rundir.reset_index(drop=True), sigma=5)\n",
    "#add new variables, runbin\n",
    "dfs['runbin'] = pd.cut(dfs.sort_values(by='rundir').rundir, bins=20)"
   ]
  },
  {
   "cell_type": "markdown",
   "id": "e5c328ad-9624-483a-a7e6-caec1e3b8830",
   "metadata": {},
   "source": [
    "### cell activities might be modulated by rundir"
   ]
  },
  {
   "cell_type": "code",
   "execution_count": 217,
   "id": "c4552938-9216-40dd-b184-9b4ab00d4c69",
   "metadata": {},
   "outputs": [],
   "source": [
    "#ax1: odd_even consistency of \"rundir\" map (cell activity as a function of rundir)\n",
    "#ax2: spatial map (L choice) of each trial\n",
    "#ax3: spatial map (R choice) of each trial\n",
    "\n",
    "odd = dfs[dfs.trial.isin(dfs.trial.unique()[::2])]\n",
    "even = dfs[dfs.trial.isin(dfs.trial.unique()[1::2])]\n",
    "cellsodd = odd.groupby('runbin').mean().loc[:,'cell0':]\n",
    "cellseven = even.groupby('runbin').mean().loc[:,'cell0':]\n",
    "@interact(n=(0,1000))\n",
    "def plot(n=0):\n",
    "    fig, ax = plt.subplots(3,1,figsize=(20,6))\n",
    "    ax[0].plot(cellsodd.iloc[:,n])\n",
    "    ax[0].plot(cellseven.iloc[:,n])   \n",
    "    ax[1].imshow(dfs[dfs.choice=='L'].pivot_table(values=f'cell{n}',columns='bin',index='trial'))\n",
    "    ax[2].imshow(dfs[dfs.choice=='R'].pivot_table(values=f'cell{n}',columns='bin',index='trial'))    \n",
    "    plt.show()"
   ]
  },
  {
   "cell_type": "markdown",
   "id": "2fd88ef6-23f0-4a2a-a151-4df97d0a0be8",
   "metadata": {},
   "source": [
    "### cell activities might correlates with rundir"
   ]
  },
  {
   "cell_type": "code",
   "execution_count": 216,
   "id": "19381a12-c7bf-40c3-aa70-205eb3d3f1e4",
   "metadata": {},
   "outputs": [
    {
     "data": {
      "application/vnd.jupyter.widget-view+json": {
       "model_id": "d063faed16f548b99484013feb2e5791",
       "version_major": 2,
       "version_minor": 0
      },
      "text/plain": [
       "interactive(children=(IntSlider(value=0, description='n', max=1000), Output()), _dom_classes=('widget-interact…"
      ]
     },
     "metadata": {},
     "output_type": "display_data"
    }
   ],
   "source": [
    "# rundir map of each trial\n",
    "@interact(n=(0,1000))\n",
    "def plot(n=0):\n",
    "    plt.figure(figsize=(20,6))\n",
    "    plt.imshow(dfs.pivot_table(values=f'cell{n}',columns='runbin',index='trial'), aspect='auto')  \n",
    "    plt.show()"
   ]
  },
  {
   "cell_type": "markdown",
   "id": "d5824090-c4a6-48df-8384-94011786ed03",
   "metadata": {
    "tags": []
   },
   "source": [
    "### cell activities would not correlate with speed"
   ]
  },
  {
   "cell_type": "code",
   "execution_count": 226,
   "id": "2ce90763-a0d1-4305-be93-1b2d01ffba21",
   "metadata": {},
   "outputs": [
    {
     "data": {
      "application/vnd.jupyter.widget-view+json": {
       "model_id": "9f18d7986fa44c6f9ec7791686704a0c",
       "version_major": 2,
       "version_minor": 0
      },
      "text/plain": [
       "interactive(children=(IntSlider(value=0, description='n', max=1000), Output()), _dom_classes=('widget-interact…"
      ]
     },
     "metadata": {},
     "output_type": "display_data"
    }
   ],
   "source": [
    "# speed map of each trial\n",
    "dfs['speed'] = gaussian_filter1d(dfs.speed.reset_index(drop=True), sigma=5)\n",
    "dfs['speedbin'] = pd.cut(dfs.sort_values(by='speed').speed, bins=20)\n",
    "@interact(n=(0,1000))\n",
    "def plot(n=0):\n",
    "    plt.figure(figsize=(20,6))\n",
    "    plt.imshow(dfs.pivot_table(values=f'cell{n}',columns='speedbin',index='trial'), aspect='auto')  \n",
    "    plt.show()"
   ]
  }
 ],
 "metadata": {
  "kernelspec": {
   "display_name": "Python 3 (ipykernel)",
   "language": "python",
   "name": "python3"
  },
  "language_info": {
   "codemirror_mode": {
    "name": "ipython",
    "version": 3
   },
   "file_extension": ".py",
   "mimetype": "text/x-python",
   "name": "python",
   "nbconvert_exporter": "python",
   "pygments_lexer": "ipython3",
   "version": "3.7.10"
  }
 },
 "nbformat": 4,
 "nbformat_minor": 5
}
