{
 "cells": [
  {
   "cell_type": "code",
   "execution_count": 1,
   "id": "acf55790-37a0-4567-87dc-ac9e20dedd84",
   "metadata": {},
   "outputs": [],
   "source": [
    "from utils import *"
   ]
  },
  {
   "cell_type": "code",
   "execution_count": 2,
   "id": "20ec3238-3cca-4352-aa3c-c7c6d5cab20e",
   "metadata": {},
   "outputs": [],
   "source": [
    "task,name,day = \"Tmaze_random\", \"A1\", \"d12\""
   ]
  },
  {
   "cell_type": "code",
   "execution_count": null,
   "id": "b9fbfb99-e638-47d1-bcfc-e02de0dcac64",
   "metadata": {},
   "outputs": [
    {
     "name": "stderr",
     "output_type": "stream",
     "text": [
      "C:\\Users\\bdr\\anaconda3\\envs\\caienv\\lib\\site-packages\\caiman\\source_extraction\\cnmf\\initialization.py:305: DeprecationWarning: `np.int` is a deprecated alias for the builtin `int`. To silence this warning, use `int` by itself. Doing this will not modify any behavior and is safe. When replacing `np.int`, you may wish to use e.g. `np.int64` or `np.int32` to specify the precision. If you wish to review your current use, check the release note link for additional information.\n",
      "Deprecated in NumPy 1.20; for more details and guidance: https://numpy.org/devdocs/release/1.20.0-notes.html#deprecations\n",
      "  gSiz = np.round(np.asarray(gSiz) / ssub).astype(np.int)\n",
      "C:\\Users\\bdr\\anaconda3\\envs\\caienv\\lib\\site-packages\\caiman\\source_extraction\\cnmf\\initialization.py:1520: DeprecationWarning: `np.bool` is a deprecated alias for the builtin `bool`. To silence this warning, use `bool` by itself. Doing this will not modify any behavior and is safe. If you specifically wanted the numpy scalar type, use `np.bool_` here.\n",
      "Deprecated in NumPy 1.20; for more details and guidance: https://numpy.org/devdocs/release/1.20.0-notes.html#deprecations\n",
      "  np.bool)  # indicate boundary pixels\n",
      "C:\\Users\\bdr\\anaconda3\\envs\\caienv\\lib\\site-packages\\caiman\\source_extraction\\cnmf\\pre_processing.py:127: DeprecationWarning: `np.int` is a deprecated alias for the builtin `int`. To silence this warning, use `int` by itself. Doing this will not modify any behavior and is safe. When replacing `np.int`, you may wish to use e.g. `np.int64` or `np.int32` to specify the precision. If you wish to review your current use, check the release note link for additional information.\n",
      "Deprecated in NumPy 1.20; for more details and guidance: https://numpy.org/devdocs/release/1.20.0-notes.html#deprecations\n",
      "  Y[..., np.int(T // 2 - max_num_samples_fft / 3 / 2):\n",
      "C:\\Users\\bdr\\anaconda3\\envs\\caienv\\lib\\site-packages\\caiman\\source_extraction\\cnmf\\pre_processing.py:128: DeprecationWarning: `np.int` is a deprecated alias for the builtin `int`. To silence this warning, use `int` by itself. Doing this will not modify any behavior and is safe. When replacing `np.int`, you may wish to use e.g. `np.int64` or `np.int32` to specify the precision. If you wish to review your current use, check the release note link for additional information.\n",
      "Deprecated in NumPy 1.20; for more details and guidance: https://numpy.org/devdocs/release/1.20.0-notes.html#deprecations\n",
      "  np.int(T // 2 + max_num_samples_fft / 3 / 2)],\n"
     ]
    }
   ],
   "source": [
    "cnmfe(r\"C:\\Users\\bdr\\Tmaze\\project\\Tmaze_nVista\\test\",gSig=(3,3),gSiz=(13,13))"
   ]
  },
  {
   "cell_type": "code",
   "execution_count": 3,
   "id": "7790f103-8e2b-4ee6-9dc9-e803f5905bff",
   "metadata": {},
   "outputs": [],
   "source": [
    "dfs = load_dfs(task,name,day,pr)"
   ]
  },
  {
   "cell_type": "code",
   "execution_count": 4,
   "id": "24ad2e3a-2639-4cf5-a435-da2f912ed943",
   "metadata": {
    "tags": []
   },
   "outputs": [
    {
     "name": "stderr",
     "output_type": "stream",
     "text": [
      "C:\\Users\\bdr\\anaconda3\\envs\\caienv\\lib\\site-packages\\h5py\\_hl\\dataset.py:541: DeprecationWarning: Passing None into shape arguments as an alias for () is deprecated.\n",
      "  arr = numpy.ndarray(selection.mshape, dtype=new_dtype)\n"
     ]
    }
   ],
   "source": [
    "cnm = load_cnm(task, name, day, pr)"
   ]
  },
  {
   "cell_type": "code",
   "execution_count": 5,
   "id": "ed323b75-dea5-4693-9537-aca29e04d5ad",
   "metadata": {},
   "outputs": [],
   "source": [
    "cp = load_cell_properties(task, name, day, pr)"
   ]
  },
  {
   "cell_type": "code",
   "execution_count": 6,
   "id": "87fb9ed0-e2f2-4cc8-b8ff-866f859cde3a",
   "metadata": {},
   "outputs": [],
   "source": [
    "fp = load_fp(task, name, day, pr)"
   ]
  },
  {
   "cell_type": "code",
   "execution_count": 10,
   "id": "859c5c22-c848-4a31-85d3-f5d088aec35e",
   "metadata": {},
   "outputs": [
    {
     "data": {
      "application/vnd.jupyter.widget-view+json": {
       "model_id": "57d4eb218151442fbe2a7f3857c5e0cd",
       "version_major": 2,
       "version_minor": 0
      },
      "text/plain": [
       "interactive(children=(Dropdown(description='n', options=(0, 1, 2, 3, 6, 7, 8, 9, 10, 11, 12, 13, 14, 15, 17, 1…"
      ]
     },
     "metadata": {},
     "output_type": "display_data"
    }
   ],
   "source": [
    "@interact(n=np.where(cp.iloc[:,0])[0])\n",
    "def plot(n=0):\n",
    "    fig, ax = plt.subplots(1,3)\n",
    "    ax[0].imshow(dfs.pivot_table(values=f'cell{n}',columns='bin',index='trial'))\n",
    "    ax[1].imshow(fp[n])\n",
    "    ax[2].imshow(fp.max(axis=0))    "
   ]
  }
 ],
 "metadata": {
  "kernelspec": {
   "display_name": "Python 3 (ipykernel)",
   "language": "python",
   "name": "python3"
  },
  "language_info": {
   "codemirror_mode": {
    "name": "ipython",
    "version": 3
   },
   "file_extension": ".py",
   "mimetype": "text/x-python",
   "name": "python",
   "nbconvert_exporter": "python",
   "pygments_lexer": "ipython3",
   "version": "3.7.10"
  }
 },
 "nbformat": 4,
 "nbformat_minor": 5
}
